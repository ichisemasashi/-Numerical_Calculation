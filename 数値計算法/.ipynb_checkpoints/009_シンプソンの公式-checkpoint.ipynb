{
 "cells": [
  {
   "cell_type": "markdown",
   "metadata": {},
   "source": [
    "## シンプソンの公式\n",
    "\n",
    "関数の数値積分を行う場合に、微小区間の関数値を2次関数で近似し、台形公式を用いた(1次関数)場合に比べて積分の精度が格段に向上することが期待できる。この方法によるものをシンプソンの公式という。"
   ]
  },
  {
   "cell_type": "markdown",
   "metadata": {},
   "source": [
    "### シンプソンの公式について\n",
    "\n",
    "シンプソンの積分法は、微小区間の関数値を2次関数で近似する方法である。1次関数は2点がわかればその係数が計算できた。2次関数の係数は3点がわかれば計算できる。\n",
    "\n",
    "![009_シンプソンの公式と誤差](009_シンプソンの公式と誤差.jpg)\n",
    "\n",
    "$x$座標上に距離$h$で均等に$x_1$、$x_2$、$x_3$をとり、それぞれの場合の関数$f(x)$の$y$座標を$y_1$、$y_2$、$y_3$とする。\n",
    "\n",
    "近似のための2次関数を\n",
    "\n",
    "$$ y = \\alpha x^2 + \\beta x + \\gamma\\tag{1}$$\n",
    "\n",
    "とする。この関数は3点$(x_1, y_1)$、$(x_2, y_2)$、$(x_3, y_3)$を通るから\n",
    "\n",
    "$$\n",
    "\\left.\n",
    "\\begin{array}{}\n",
    "y_1 & = & \\alpha {x_1}^2 + \\beta x_1 + \\gamma\\\\\n",
    "y_2 & = & \\alpha {x_2}^2 + \\beta x_2 + \\gamma\\\\\n",
    "y_3 & = & \\alpha {x_3}^2 + \\beta x_3 + \\gamma\n",
    "\\end{array}\n",
    "\\right\\}\n",
    "$$\n",
    "\n",
    "$x_3 - x_2 = x_2 - x_1 = h$であり、上の式から係数$\\alpha$、$\\beta$、$\\gamma$を求める。\n",
    "\n",
    "$$\n",
    "\\left.\n",
    "\\begin{array}{}\n",
    "\\alpha & = & \\cfrac{y_1 - 2 y_2 + y_3}{2h^2}\\\\\n",
    "\\beta  & = & \\cfrac{-(x_2 + x_3)y_1 + 2(x_3 + x_1)y_2 - (x_1 + x_2)y_3}{2h^2}\\\\\n",
    "\\gamma & = & \\cfrac{x_2 x_3 y_1 - 2x_3 x_1 y_2 + x_1 x_2 y_3}{2h^2}\n",
    "\\end{array}\n",
    "\\right\\}\n",
    "$$\n",
    "\n",
    "この近似曲線$y = \\alpha x^2 + \\beta x + \\gamma$を$x_1$から$x_3$まで積分して、上で求めた係数$\\alpha$、$\\beta$、$\\gamma$を代入すると\n",
    "\n",
    "$$\\int _{x_1}^{x_3} (\\alpha x^2 + \\beta x + \\gamma) dx = \\cfrac{\\alpha ({x_3}^3 - {x_1}^3)}{3} + \\cfrac{\\beta ({x_3}^2 - {x_1}^2)}{2} + \\gamma (x_3 - x_1) = \\cfrac{h}{3}(y_1 + 4y_2 + y_3)\\tag{2}$$\n",
    "\n",
    "となり、関数$f(x)$の$x_1$から$x_3$までの積分が近似される。\n",
    "\n",
    "関数$f(x)$について、$x$の区間$a$から$b$までの定積分$S$を考える。\n",
    "\n",
    "$a$から$b$までの区間を微小区間$h$で$2n$等分に区切り、それぞれの$x$の値が$(x_0, x_1, \\ldots, x_{2n-1}, x_{2n})$であるとし、関数$f(x)$の値を$(y_0, y_1, y_2, \\ldots, y_{2n-1}, y_{2n})$とするとき、定積分$S$は$(2)$をそのまま連続して加え続ければよい。\n",
    "\n",
    "$$S = \\cfrac{h}{3}\\{ (y_0 + 4y_1 + y_2) + (y_2 + 4y_3 + y_4) + \\cdots + (y_{2n-4} +4y_{2n-3} +y_{2n-2}) + (y_{2n-2} + 4y_{2n-1} + y_{2n}) \\}$$\n",
    "\n",
    "よって、次の式をシンプソンの公式といい、近似精度の高い数値積分の公式である。\n",
    "\n",
    "$$\\int_a^b f(x)dx = \\cfrac{h}{3}(y_0 + 4y_1 + 2y_2 + 4y_3 + \\cdots + 2y_{2n-2} + 4y_{2n-1} + y_{2n})\\tag{3}$$\n",
    "\n",
    "ただし、$h=\\cfrac{b - a}{2n}$"
   ]
  },
  {
   "cell_type": "markdown",
   "metadata": {},
   "source": [
    "### シンプソンの公式による数値積分のプログラム\n",
    "\n",
    "関数$y = x^4 + 2x$の$x$の区間$0.0$から$3.0$の数値積分をシンプソンの公式を用いて求める。\n",
    "\n",
    "![009_シンプソンの公式フローチャート](009_シンプソンの公式フローチャート.jpg)"
   ]
  },
  {
   "cell_type": "code",
   "execution_count": 7,
   "metadata": {},
   "outputs": [
    {
     "name": "stdout",
     "output_type": "stream",
     "text": [
      "ANS =  57.6000\n"
     ]
    },
    {
     "data": {
      "text/plain": [
       "0"
      ]
     },
     "execution_count": 7,
     "metadata": {},
     "output_type": "execute_result"
    }
   ],
   "source": [
    "using Printf\n",
    "\n",
    "function fun(x)\n",
    "    return (x^4 + 2.0*x)\n",
    "end\n",
    "\n",
    "function main(a, b, f)\n",
    "    N = 30\n",
    "    h = (b - a)/N\n",
    "\n",
    "    z1 = 0.0\n",
    "    z2 = 0.0\n",
    "    \n",
    "#    x = range(a, b, step=h)\n",
    "    x = range(a, b, length=N+1)\n",
    "#    y = map(f, x)\n",
    "    y = f.(x)\n",
    "\n",
    "    for i = range(2, N, step=2)\n",
    "        z1 += 4.0 * y[i]\n",
    "    end\n",
    "    for i = range(3, N-1, step=2)\n",
    "        z2 += 2.0 * y[i]\n",
    "    end\n",
    "    S = (h / 3.0) * (y[1] + z1 + z2 + y[N+1])\n",
    "    \n",
    "    @printf(\"ANS = %8.4lf\\n\", S)\n",
    "\n",
    "    return 0\n",
    "end\n",
    "\n",
    "main(0.0, 3.0, fun)"
   ]
  }
 ],
 "metadata": {
  "kernelspec": {
   "display_name": "Julia 1.5.0",
   "language": "julia",
   "name": "julia-1.5"
  },
  "language_info": {
   "file_extension": ".jl",
   "mimetype": "application/julia",
   "name": "julia",
   "version": "1.5.0"
  }
 },
 "nbformat": 4,
 "nbformat_minor": 4
}
