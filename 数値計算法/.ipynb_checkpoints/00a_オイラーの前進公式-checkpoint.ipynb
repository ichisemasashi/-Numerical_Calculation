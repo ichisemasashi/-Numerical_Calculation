{
 "cells": [
  {
   "cell_type": "markdown",
   "metadata": {},
   "source": [
    "## オイラーの前進公式\n",
    "\n",
    "関数の1階微分は、その関数の接線の勾配を表わす。\n",
    "\n",
    "オイラーの前進公式では、この勾配を利用して次々に直線近似で原関数の値を推測していく。\n"
   ]
  },
  {
   "cell_type": "markdown",
   "metadata": {},
   "source": [
    "### オイラーの前進公式について\n",
    "\n",
    "1階の微分方程式が与えられていると、ただちに原関数の接線の方程式を得ることができる。\n",
    "\n",
    "この方法で関数を接線で近似すると誤差が生じるが、近似区間が微小幅なら大きな誤差は生じない。\n",
    "\n",
    "したがって、微分方程式を用いて次々に直線近似で原関数の値を推測していくことができる。\n",
    "\n"
   ]
  },
  {
   "cell_type": "markdown",
   "metadata": {},
   "source": [
    "例：1階の微分方程式$\\cfrac{dy}{dx} = f(x)\\ \\ (1)$を解く。\n",
    "\n",
    "微小区間$x_0$、$x_0 + h$における関数値を$y_0$、$y_1$とすると、微分値は\n",
    "\n",
    "$$\\cfrac{dy}{dx} = \\cfrac{y_1 - y_0}{h}$$\n",
    "\n",
    "これは、微分方程式$(1)$から\n",
    "\n",
    "$$\n",
    "\\cfrac{y_1 - y_0}{h} = f(x)\\\\\n",
    "y_1 - y_0 = hf(x_0)\\\\\n",
    "y_1 = y_0 + hf(x_0)\\\\\n",
    "$$\n",
    "\n",
    "これで、$y_1$が求められた。このように、$(x_0, y_0)$を出発点として、$(x_0+h, y_1)$、$\\cdots$を次々に求めてゆく。\n",
    "\n",
    "一般的には、以下のようになる。\n",
    "\n",
    "$$\n",
    "\\begin{array}{rcl}\n",
    "y_{i+1} &=& y_i + hf(x_i, y_i)\\\\\n",
    "x_{i+1} &=& x_i + h\\\\\n",
    "(i &=& 0, 1, 2, \\ldots )\n",
    "\\end{array}\n",
    "$$"
   ]
  },
  {
   "cell_type": "markdown",
   "metadata": {},
   "source": [
    "この方法は関数曲線を接線で近似しているため、誤差が蓄積されて、最終的には大きな誤差が生じてしまう。\n",
    "\n",
    "その誤差の割合を調べるために、$y(x_0 + h)$をテーラー展開して\n",
    "\n",
    "$$y(x_0 + h) = y(x_0) + hy'(x_0) + \\cfrac{1}{2}h^2y''(x_0)+\\cdots$$\n",
    "\n",
    "この式と、オイラーの前進公式を比較すると、オイラーの前進公式は、テイラー展開式の第2項以上を無視しているので、$h^2$程度の誤差が累積する。\n",
    "\n",
    "したがって誤差を小さくするには、hを小さくすればよいが、あまりに小さくしすぎると計算時間が増加し、累積誤差が増加する。"
   ]
  },
  {
   "cell_type": "markdown",
   "metadata": {},
   "source": [
    "### オイラーの前進公式を用いたプログラム\n",
    "\n",
    "例：微分方程式$\\cfrac{dy}{dx}= 2x$、初期値$(0, 0)$であるとき、オイラーの前進公式による数値解法を考える。\n",
    "\n",
    "![00a_オイラーの前進公式フローチャート](00a_オイラーの前進公式フローチャート.jpg)"
   ]
  },
  {
   "cell_type": "code",
   "execution_count": 6,
   "metadata": {},
   "outputs": [
    {
     "name": "stdout",
     "output_type": "stream",
     "text": [
      "\tX\tY\n",
      " 0.0000   0.0000l\n",
      " 1.0000   0.9990l\n",
      " 2.0000   3.9980l\n",
      " 3.0000   8.9970l\n",
      " 4.0000  15.9960l\n",
      " 5.0000  24.9950l\n",
      " 6.0000  35.9940l\n",
      " 7.0000  48.9930l\n",
      " 8.0000  63.9920l\n",
      " 9.0000  80.9910l\n",
      "10.0000  99.9900l\n"
     ]
    },
    {
     "data": {
      "text/plain": [
       "0"
      ]
     },
     "execution_count": 6,
     "metadata": {},
     "output_type": "execute_result"
    }
   ],
   "source": [
    "using Printf\n",
    "\n",
    "const EPS=0.00000001\n",
    "\n",
    "function fun(x)\n",
    "    return (2.0 * x)\n",
    "end\n",
    "\n",
    "function main()\n",
    "    x = 0.0\n",
    "    y = 0.0\n",
    "    h = 0.001\n",
    "    dx = 1.0  # 解を打ち出す周期\n",
    "    x_max = 10.0 # 打ち出す範囲\n",
    "    ddx = 0.0\n",
    "\n",
    "    @printf(\"\\tX\\tY\\n\")\n",
    "    while true\n",
    "        if x >= (ddx - EPS)\n",
    "            ddx += dx\n",
    "            @printf(\"%7.4lf  %7.4fl\\n\", x, y)\n",
    "        end\n",
    "\n",
    "        y += h*fun(x)\n",
    "        x += h\n",
    "        \n",
    "        if x >= x_max\n",
    "            break\n",
    "        end\n",
    "    end\n",
    "    return 0\n",
    "end\n",
    "\n",
    "main()"
   ]
  }
 ],
 "metadata": {
  "kernelspec": {
   "display_name": "Julia 1.5.0",
   "language": "julia",
   "name": "julia-1.5"
  },
  "language_info": {
   "file_extension": ".jl",
   "mimetype": "application/julia",
   "name": "julia",
   "version": "1.5.0"
  }
 },
 "nbformat": 4,
 "nbformat_minor": 4
}
