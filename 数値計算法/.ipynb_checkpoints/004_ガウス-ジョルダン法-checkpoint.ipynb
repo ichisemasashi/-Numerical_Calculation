{
 "cells": [
  {
   "cell_type": "markdown",
   "metadata": {},
   "source": [
    "## ガウス-ジョルダン法\n",
    "\n",
    "簡単で、精度よく、多元連立1次方程式の数値解法。\n",
    "\n",
    "方程式の各項を次々に消去していくことにより、結果的に解のみが残るようにしたもの。\n"
   ]
  },
  {
   "cell_type": "markdown",
   "metadata": {},
   "source": [
    "### ガウス-ジョルダン法について\n",
    "\n",
    "例：以下の連立1次方程式を考える。\n",
    "\n",
    "$$\n",
    "\\left.\n",
    "\\begin{array}{rrrlr}\n",
    "2x & +  y & + 3z & = & 13\\\\\n",
    " x & + 3y & + 2z & = & 13\\\\\n",
    "3x & + 2y & +  z & = & 10\n",
    "\\end{array}\n",
    "\\right\\}\\tag{1}\n",
    "$$\n",
    "\n",
    "これを解く。まず式$(1)$の第1式を変形して、$x + 0.5y + 1.5z = 6.5$。よって、連立方程式の各式は次のようになる。\n",
    "\n",
    "$$\n",
    "\\left.\n",
    "\\begin{array}{rrrlr}\n",
    "x       & + 0.5y & + 1.5z & = & 6.5\\\\\n",
    "\\mbox{} & + 2.5y & + 0.5z & = & 6.5\\\\\n",
    "\\mbox{} & + 0.5y & - 3.5z & = & -9.5\n",
    "\\end{array}\n",
    "\\right\\}\n",
    "$$\n",
    "\n",
    "つぎに、第2式を変形して、$y + 0.2z = 2.6$。よって\n",
    "\n",
    "$$\n",
    "\\left.\n",
    "\\begin{array}{rrrlr}\n",
    "x       & \\mbox{} & + 1.4z & = & 5.2\\\\\n",
    "\\mbox{} & y       & + 0.2z & = & 2.6\\\\\n",
    "\\mbox{} & \\mbox{} & - 3.6z & = & -10.8\n",
    "\\end{array}\n",
    "\\right\\}\n",
    "$$\n",
    "\n",
    "最後に、第3式を変形して、$z = 3$。よって\n",
    "\n",
    "$$\n",
    "\\left.\n",
    "\\begin{array}{lllllr}\n",
    "x       & \\mbox{} & \\mbox{} & = & 1\\\\\n",
    "\\mbox{} & y       & \\mbox{} & = & 2\\\\\n",
    "\\mbox{} & \\mbox{} & z       & = & 3\n",
    "\\end{array}\n",
    "\\right\\}\n",
    "$$\n",
    "\n",
    "\n",
    "まとめると、第1式は第1項の係数で両辺を割って他の式の$x$項を消去し、第$n$式は第$n$項の係数で両辺を割って他の式の$n$項を消去する。\n",
    "\n",
    "この数をピボットとよぶ。\n",
    "\n",
    "計算の途中でピボットが$0$になると、解を求めることができない。\n",
    "\n",
    "また、ピボットが他の係数と比較してあまりに小さくなると、割り算の際に他の係数が極端に大きくなり、数値計算の誤差が増大する。"
   ]
  },
  {
   "cell_type": "markdown",
   "metadata": {},
   "source": [
    "### ガウス-ジョルダン法によるプログラム\n",
    "\n",
    "例：ガウス-ジョルダン法により、連立方程式$(1)$を解く。\n",
    "\n",
    "![004_ガウス-ジョルダン法フローチャート](004_ガウス-ジョルダン法フローチャート.jpg)"
   ]
  },
  {
   "cell_type": "code",
   "execution_count": 1,
   "metadata": {},
   "outputs": [
    {
     "name": "stdout",
     "output_type": "stream",
     "text": [
      "x1 = 1.0\n",
      "x2 = 2.0\n",
      "x3 = 3.0\n"
     ]
    }
   ],
   "source": [
    "const EPS = 0.001\n",
    "\n",
    "function main()\n",
    "    a = [2.0 1 3 13;\n",
    "           1 3 2 13;\n",
    "           3 2 1 10]\n",
    "    (N,M) = size(a)\n",
    "\n",
    "    for i = 1:N\n",
    "        pivot = a[i,i]   # ピボットの設定\n",
    "        if abs(pivot) < EPS\n",
    "            println(\"ピボットが許容誤差以下\")\n",
    "            return 1\n",
    "        end\n",
    "        a[i,:] = a[i,:] ./ pivot # 正規化\n",
    "        for k = 1:N\n",
    "            if k == i\n",
    "                continue\n",
    "            end\n",
    "            a[k,:] = a[k,:] - (a[i,:] .* a[k,i]) # 第k式から第i項を消去\n",
    "        end\n",
    "    end\n",
    "    \n",
    "    for i = 1:N\n",
    "        println(\"x$i = $(f(a[i,M]))\")\n",
    "    end\n",
    "end\n",
    "\n",
    "function f(x::Float64)\n",
    "    return round(x,digits=2)\n",
    "end\n",
    "\n",
    "main()"
   ]
  }
 ],
 "metadata": {
  "kernelspec": {
   "display_name": "Julia 1.5.0",
   "language": "julia",
   "name": "julia-1.5"
  },
  "language_info": {
   "file_extension": ".jl",
   "mimetype": "application/julia",
   "name": "julia",
   "version": "1.5.0"
  }
 },
 "nbformat": 4,
 "nbformat_minor": 4
}
