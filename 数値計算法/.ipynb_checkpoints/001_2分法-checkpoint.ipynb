{
 "cells": [
  {
   "cell_type": "markdown",
   "metadata": {},
   "source": [
    "## 第1章 方程式の根\n",
    "\n",
    "### 2分法\n",
    "\n",
    "方程式 $f(x) = 0$が、ある区間で、$x = α$という根を1つだけもつと仮定。\n",
    "\n",
    "関数$y = f(x)$のグラフを考える。\n",
    "\n",
    "関数値$y = f(x)$は$x = α$の前後で符号が逆転する。\n",
    "\n",
    "区間$x = [a, b]$において、$$f(a) f(b) < 0$$\n",
    "\n",
    "中点$c = (a + b) / 2$において、\n",
    "\n",
    "$$f(a) f(c) < 0  \\Longrightarrow 根αは点aと点cの間に存在する$$\n",
    "$$f(a) f(c) > 0  \\Longrightarrow 根αは点bと点cの間に存在する$$\n",
    "\n",
    "よって、\n",
    "\n",
    "- $f(a) f(c) < 0$のときは、新区間$[a, c]$として\n",
    "- $f(a) f(c) > 0$のときは、新区間$[b, c]$として\n",
    "\n",
    "$|a - b|$が誤差範囲$\\varepsilon$以下になるまで行う。\n",
    "\n",
    "$$|a - b| < \\varepsilon$$\n",
    "\n",
    "そして、誤差範囲以上であれば、次の中点$c$を求める。\n",
    "\n",
    "![001_二分法の原理](001_二分法の原理.jpg)\n"
   ]
  },
  {
   "cell_type": "markdown",
   "metadata": {},
   "source": [
    "#### 2分法によるプログラム\n",
    "\n",
    "収束条件判定 $EPS = 0.0001$とする\n",
    "\n",
    "![001_二分法フローチャート](001_二分法フローチャート.jpg)\n"
   ]
  },
  {
   "cell_type": "code",
   "execution_count": 22,
   "metadata": {},
   "outputs": [
    {
     "data": {
      "text/plain": [
       "f (generic function with 1 method)"
      ]
     },
     "execution_count": 22,
     "metadata": {},
     "output_type": "execute_result"
    }
   ],
   "source": [
    "const EPS = 0.0001\n",
    "\n",
    "function main()\n",
    "    a = 0.0\n",
    "    b = 1.0\n",
    "\n",
    "    println(\"x^3 + x - 1 = 0の2分法による数値計算\")\n",
    "    println(\"初期値 a = $a\")\n",
    "    println(\"初期値 b = $b\")\n",
    "\n",
    "    x = nibun(a, b)\n",
    "\n",
    "    println(\"近似解 x = $x\")\n",
    "end\n",
    "\n",
    "function nibun(a, b)\n",
    "    c::Float64 = 0.0\n",
    "\n",
    "    while true\n",
    "        c = (a + b) / 2.0\n",
    "        if (f(c) * f(a) < 0)\n",
    "            b = c\n",
    "        else\n",
    "            a = c\n",
    "        end\n",
    "      \n",
    "        if (abs(a - b) <= EPS)\n",
    "            break\n",
    "        end\n",
    "    end\n",
    "    c\n",
    "end\n",
    "\n",
    "function f(x)\n",
    "    return (x ^ 3.0) + x - 1.0\n",
    "end"
   ]
  },
  {
   "cell_type": "code",
   "execution_count": 23,
   "metadata": {},
   "outputs": [
    {
     "name": "stdout",
     "output_type": "stream",
     "text": [
      "x^3 + x - 1 = 0の2分法による数値計算\n",
      "初期値 a = 0.0\n",
      "初期値 b = 1.0\n",
      "近似解 x = 0.68231201171875\n"
     ]
    }
   ],
   "source": [
    "main()"
   ]
  }
 ],
 "metadata": {
  "kernelspec": {
   "display_name": "Julia 1.5.0",
   "language": "julia",
   "name": "julia-1.5"
  },
  "language_info": {
   "file_extension": ".jl",
   "mimetype": "application/julia",
   "name": "julia",
   "version": "1.5.0"
  }
 },
 "nbformat": 4,
 "nbformat_minor": 4
}
