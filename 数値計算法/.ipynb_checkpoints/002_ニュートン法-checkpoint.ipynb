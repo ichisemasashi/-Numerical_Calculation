{
 "cells": [
  {
   "cell_type": "markdown",
   "metadata": {},
   "source": [
    "## ニュートン法\n",
    "\n",
    "関数上の1点と、その接線を用いて根に近づいていく方法\n"
   ]
  },
  {
   "cell_type": "markdown",
   "metadata": {},
   "source": [
    "#### テーラー展開\n",
    "\n",
    "関数$y = f(x)$を、$(x - a)$の多項式で展開する方法\n",
    "\n",
    "##### 2次関数$y = αx^2 + βx + γ$の例\n",
    "\n",
    "関数を$(x - a)$の多項式で表わすと\n",
    "\n",
    "$$y(x) = (αa^2 + βa + γ) + (x - a)(2αa + β) + \\frac{1}{2} (x - a)^2(2α)$$\n",
    "\n",
    "この式は、次のように表わすことができる。\n",
    "\n",
    "$$y(x) = y(a) + (x - a)y'(a) + \\frac{1}{2}(x - a)^2 y''(a)$$\n",
    "\n",
    "##### 関数$y = f(x)$のテーラー展開\n",
    "\n",
    "$$f(x) = f(a) + (x - a)f'(a) + \\frac{1}{2}(x - a)^2f''(a) + \\ldots + \\frac{1}{n!}(x - a)^n f^{(n)}(a) + \\ldots$$\n",
    "\n",
    "### ニュートン法に戻る\n",
    "\n",
    "$x$が$a$の近傍では、上の展開式において$(x - a) \\rightarrow 0$となるので、右辺の第3項以下を無視することができる。つまり、次のようになる。\n",
    "\n",
    "$$f(x) \\fallingdotseq f(a) + (x - a)f'(a)$$\n",
    "\n",
    "この式の近似解として、点$(b, 0)$を考えると\n",
    "\n",
    "$$ 0 = f(a) + (b - a)f'(a)$$\n",
    "$$ -bf'(a) = f(a) - af'(a)$$\n",
    "$$ -b = \\frac{f(a)}{f'(a)} -a$$\n",
    "$$ b = a - \\frac{f(a)}{f'(a)}$$\n",
    "\n",
    "この$b$を元の$a$と置き換えて、上と同様な手続きを繰り返していく。\n",
    "\n",
    "最後に、$|a - b| < \\varepsilon$となるか判定する。"
   ]
  },
  {
   "cell_type": "markdown",
   "metadata": {},
   "source": [
    "### ニュートン法の原理\n",
    "\n",
    "![002_ニュートン法の原理](002_ニュートン法の原理.jpg)\n",
    "\n",
    "関数$y = f(x)$上の点$(a, f(a))$における接線の式は\n",
    "\n",
    "$$y - f(a) = f'(a)(x - a)$$\n",
    "\n",
    "この接線と$x$軸上の交点を$(b, 0)$とすると、$b$は$a$に比べて厳密解$α$に$\\Delta x$だけ近づいている。\n",
    "\n",
    "次に、点$(b, f(b))$上の接線を求めると、その際の近似解$c$がさらに厳密解$α$に近づく。\n",
    "\n",
    "#### 注意\n",
    "このニュートン法は、関数$y = f(x)$が単調に増加、あるいは減少している区間においてのみ有効である。\n"
   ]
  },
  {
   "cell_type": "markdown",
   "metadata": {},
   "source": [
    "### ニュートン法による例\n",
    "\n",
    "関数$y = x^3 + x -1$を元に、方程式$x^3 + x - 1 = 0$の根を求める。\n",
    "\n",
    "関数$y = f(x)$を微分すると、$f'(x) = 3x^2 + 1$となることを利用する。\n",
    "\n",
    "![002_ニュートン法フローチャート](002_ニュートン法フローチャート.jpg)"
   ]
  },
  {
   "cell_type": "code",
   "execution_count": 2,
   "metadata": {},
   "outputs": [
    {
     "name": "stdout",
     "output_type": "stream",
     "text": [
      "近似解 x = 0.682\n"
     ]
    }
   ],
   "source": [
    "const EPS = 0.0001\n",
    "\n",
    "function main()\n",
    "    a::Float64 = 1.0\n",
    "    b::Float64 = 0.0\n",
    "\n",
    "    while true\n",
    "        b = a - f(a) / f_dash(a)\n",
    "\n",
    "        if abs(a - b) < EPS\n",
    "            break\n",
    "        else\n",
    "            a = b\n",
    "        end\n",
    "    end\n",
    "    \n",
    "    println(\"近似解 x = $(form(b))\")\n",
    "end\n",
    "\n",
    "function f(x::Float64)::Float64\n",
    "    return (x^3.0 + x - 1.0)\n",
    "end\n",
    "\n",
    "function f_dash(x::Float64)::Float64\n",
    "    return (3.0 * x^2.0 + 1.0)\n",
    "end\n",
    "\n",
    "function form(x::Float64)\n",
    "    return round(x, digits=3)\n",
    "end\n",
    "\n",
    "main()"
   ]
  }
 ],
 "metadata": {
  "kernelspec": {
   "display_name": "Julia 1.5.0",
   "language": "julia",
   "name": "julia-1.5"
  },
  "language_info": {
   "file_extension": ".jl",
   "mimetype": "application/julia",
   "name": "julia",
   "version": "1.5.0"
  }
 },
 "nbformat": 4,
 "nbformat_minor": 4
}
