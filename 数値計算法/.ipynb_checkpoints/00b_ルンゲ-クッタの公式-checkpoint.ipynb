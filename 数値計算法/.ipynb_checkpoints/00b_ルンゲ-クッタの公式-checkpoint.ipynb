{
 "cells": [
  {
   "cell_type": "markdown",
   "metadata": {},
   "source": [
    "## ルンゲ-クッタの公式\n",
    "\n",
    "精度の高い数値積分法にシンプソンの公式があった。それを利用して、精度の高い微分法にルンゲ-クッタの公式を考えることができる。"
   ]
  },
  {
   "cell_type": "markdown",
   "metadata": {},
   "source": [
    "### ルンゲ-クッタの公式について\n",
    "\n",
    "1階の微分方程式を考える。\n",
    "\n",
    "$$\\cfrac{dy}{dx} = f(x, y)\\tag{1}$$\n",
    "\n",
    "この式を変形する。\n",
    "\n",
    "$$\\int dy = \\int f(x) dx$$\n",
    "\n",
    "微分方程式$(1)$の初期値を$(x_0, y_0)$、そこから微小距離$h$だけ増加したときの$y$の値を$y_1$とすれば\n",
    "\n",
    "$$\\int_{y_0}^{y_1} dy = \\int_{x_0}{x_0 + h} f(x)dx$$\n",
    "\n",
    "$$y_1 = y_0 + \\int_{x_0}{x_0 + h} f(x)dx \\tag{2}$$\n",
    "\n",
    "この式から、初期値と微小距離から次の点の$y$の値を求めることができる。\n",
    "\n",
    "上式の積分は微小区間だから、シンプソンの公式を導く過程で用いた2次式の近似積分法を用いる。\n",
    "\n",
    "$x$座標上で均等に$\\delta x$ずつ離れた3点$x_1$、$x_2$、$x_3$の関数値をそれぞれ$f_1$、$f_2$、$f_3$とするとき、その微小区間の積分$\\Delta S$は\n",
    "\n",
    "$$\\Delta S = \\int_{x_1}^{x_3}f(x)dx = \\cfrac{\\delta x}{3}(f_1 + 4f_2 + f_3)$$\n",
    "\n",
    "式$(2)$に戻り、$x_0$と$x_1$の間に3点をとると、均等幅$\\delta x$は$h/2$になる。よって\n",
    "\n",
    "$$y_1 = y_0 + \\cfrac{h}{6}\\{ f(x_0) + 4f(x_0 + \\cfrac{h}{2}) + f(x_0 + h) \\}$$\n",
    "\n",
    "これがルンゲ-クッタの公式である。\n"
   ]
  },
  {
   "cell_type": "markdown",
   "metadata": {},
   "source": [
    "一般に微分方程式の関数$f$は$x$と$y$の関数$f(x, y)$であることが多い。この場合のルンゲ-クッタの公式は次のようになる。\n",
    "\n",
    "$$y_{i+1} = y_i + \\cfrac{h}{6}(k_1 + 2k_2 + 2k_3 + k_4)\\tag{3}$$\n",
    "\n",
    "$$\n",
    "\\left.\\begin{array}{}\n",
    "k_1 & = & f(x_i, y_i)\\\\\n",
    "k_2 & = & f(x_i + \\frac{h}{2}, y_i + k_1\\frac{h}{2})\\\\\n",
    "k_3 & = & f(x_i + \\frac{h}{2}, y_i + k_2\\frac{h}{2})\\\\\n",
    "k_4 & = & f(x_i + h, y_i + k_3 h)\\\\\n",
    " & &(i = 0, 1,2,\\ldots)\n",
    "\\end{array}\\right\\}\\tag{4}\n",
    "$$"
   ]
  },
  {
   "cell_type": "markdown",
   "metadata": {},
   "source": [
    "### ルンゲ-クッタの公式を用いたプログラム\n",
    "\n",
    "![00b_ルンゲ-クッタの公式フローチャート](00b_ルンゲ-クッタの公式フローチャート.jpg)"
   ]
  },
  {
   "cell_type": "code",
   "execution_count": 4,
   "metadata": {},
   "outputs": [
    {
     "name": "stdout",
     "output_type": "stream",
     "text": [
      "       X\tY\n",
      "  0.0000    0.0000\n",
      "  1.0000    1.0000\n",
      "  2.0000    4.0000\n",
      "  3.0000    9.0000\n",
      "  4.0000   16.0000\n",
      "  5.0000   25.0000\n",
      "  6.0000   36.0000\n",
      "  7.0000   49.0000\n",
      "  8.0000   64.0000\n",
      "  9.0000   81.0000\n",
      " 10.0000  100.0000\n"
     ]
    },
    {
     "data": {
      "text/plain": [
       "0"
      ]
     },
     "execution_count": 4,
     "metadata": {},
     "output_type": "execute_result"
    }
   ],
   "source": [
    "using Printf\n",
    "\n",
    "const EPS = 0.00000001\n",
    "\n",
    "function fun(x, y)\n",
    "    return 2.0 * x\n",
    "end\n",
    "\n",
    "function main(x, y, f)\n",
    "    h = 0.01\n",
    "    dx = 1.0\n",
    "    x_max = 10.0\n",
    "\n",
    "    ddx = 0\n",
    "\n",
    "    @printf(\"       X\\tY\\n\")\n",
    "\n",
    "    while true\n",
    "        if x > ddx - EPS\n",
    "            ddx += dx\n",
    "            @printf(\"%8.4lf  %8.4lf\\n\", x, y)\n",
    "        end\n",
    "\n",
    "        k1 = f(x,y)\n",
    "        k2 = f(x + h/2.0, y + k1 * h/2.0)\n",
    "        k3 = f(x + h/2.0, y + k2 * h/2.0)\n",
    "        k4 = f(x + h, y + k3 *h)\n",
    "        \n",
    "        y += (h/6.0) * (k1 + 2.0*k2 + 2.0*k3 + k4)\n",
    "        x += h\n",
    "        \n",
    "        if x > x_max\n",
    "            break\n",
    "        end\n",
    "    end\n",
    "    return 0\n",
    "end\n",
    "\n",
    "main(0.0, 0.0, fun)"
   ]
  }
 ],
 "metadata": {
  "kernelspec": {
   "display_name": "Julia 1.5.0",
   "language": "julia",
   "name": "julia-1.5"
  },
  "language_info": {
   "file_extension": ".jl",
   "mimetype": "application/julia",
   "name": "julia",
   "version": "1.5.0"
  }
 },
 "nbformat": 4,
 "nbformat_minor": 4
}
