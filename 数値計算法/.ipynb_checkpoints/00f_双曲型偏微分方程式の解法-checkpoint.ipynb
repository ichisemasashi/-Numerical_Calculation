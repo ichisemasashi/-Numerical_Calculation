{
 "cells": [
  {
   "cell_type": "markdown",
   "metadata": {},
   "source": [
    "## 双曲型偏微分方程式の解法\n",
    "\n",
    "双曲線型の偏微分方程式は、波動現象や物体の振動などを方程式で表わそうとするときに導かれるものである。"
   ]
  },
  {
   "cell_type": "markdown",
   "metadata": {},
   "source": [
    "### 差分近似式への変換\n",
    "\n",
    "双曲型の偏微分方程式は次の形である。\n",
    "\n",
    "$$\\cfrac{\\partial ^2 u}{\\partial t^2} = \\cfrac{\\partial ^2 u}{\\partial x^2}\\tag{1}$$\n",
    "\n",
    "ただし、変数$x$、$t$はそれぞれ距離と時間の変数である場合が多い。\n",
    "\n",
    "この方程式の差分近似式は、$\\left( \\cfrac{\\partial ^2 u}{\\partial x^2}\\right)_{i,j} = \\cfrac{u_{i+1,j} -2u_{i,j} +u_{i-1,j}}{h^2}$、$\\left( \\cfrac{\\partial ^2 u}{\\partial y^2}\\right)_{i,j} = \\cfrac{u_{i,j+1}-2u_{i,j}+u_{i,j-1}}{k^2}$より\n",
    "\n",
    "$$\\cfrac{u_{i,j+1} -2u_{i,j} +u_{i,j-1}}{k^2} = \\cfrac{u_{i+1,j} -2u_{i,j} +u_{i-1,j}}{h^2}$$\n",
    "\n",
    "$x$に対する$u$の分布の初期条件$u_{i,0}\\ (i=0,1,\\ldots,n)$がわかっている場合を取り扱う。\n",
    "\n",
    "この式を$t$軸前進方向($j$方向)の値が計算できるように変形する。\n",
    "\n",
    "$u_{i,j+1} = r^2(u_{i+1,j}+u_{i-1,j})+2(1-r^2)u_{i,j} - u_{i,j-1}\\tag{2}$\n",
    "\n",
    "ただし$r=\\cfrac{k}{h}$\n",
    "\n",
    "この式から明かなように、初期条件$u_{i,j-1}、u_{i,j}\\ (i=0,1,\\ldots,n)$がわかっていれば、$j$方向に向けて次々と関数値$u_{i,j+1}$を計算することができる。\n",
    "\n",
    "この解法の安定条件は、$r<1$のときである。"
   ]
  },
  {
   "cell_type": "markdown",
   "metadata": {},
   "source": [
    "### 数値解析プログラム\n",
    "\n",
    "例：弦の方程式が$\\cfrac{\\partial ^2 u}{\\partial \\tau ^2} = c^2\\left( \\cfrac{\\partial ^2u}{\\partial \\chi ^2} \\right)$で表されるものとする。両端を固定した長さ$l$の弦の中央を、時間$\\tau = 0$で$\\chi = 0.5$の位置から放つとき、弦の位置分布$u(\\chi, \\tau)$の時間変化を計算する。\n",
    "\n",
    "初期条件:\n",
    "\n",
    "刻み数$n$、刻み幅$h$とすれば、$l = nh$\n",
    "\n",
    "弦の両端において位置は固定されているので、$u_{0,j} = u_{l,j} = 0$\n",
    "\n",
    "$u_{i,0}=\\cfrac{i}{n}\\ (i = 1,2,\\ldots,\\cfrac{n}{2})$\n",
    "\n",
    "$u_{i,0} = 1 - \\cfrac{i}{n}\\ (i=\\cfrac{n}{2}, \\cfrac{n}{2}+1, \\ldots, n)$\n",
    "\n",
    "$t = c\\tau /l$、$x = \\chi / l$と置けば、方程式は$(1)$と同じ形になるので、差分方程式は$(2)$になる。"
   ]
  },
  {
   "cell_type": "code",
   "execution_count": null,
   "metadata": {},
   "outputs": [],
   "source": [
    "using Printf\n",
    "\n",
    "const N = 20\n",
    "\n",
    "function main()\n",
    "    n = N + 1\n",
    "    f1(x) = x/N\n",
    "    f2(x) = (1.0 - x/N)\n",
    "    u_curr = cat(dims=1, f1.(0:(N/2)), f2.((N/2):N))\n",
    "    u_before = u_curr\n",
    "    w = zeros(Float64, n)\n",
    "\n",
    "    h = 1.0/N\n",
    "    k = 0.01\n",
    "    r = k/h\n",
    "    q = r^2\n",
    "    s = 2.0*(1.0 - r^2)\n",
    "\n",
    "    for j = 0:200\n",
    "        if (j % 10) == 0\n",
    "            @printf(\"t=%5.3lf: \",j*k)\n",
    "            for i=1:2:n\n",
    "                @printf(\"6.2lf\", u_curr[i])\n",
    "    end\n",
    "    \n",
    "    return 0\n",
    "end\n",
    "\n"
   ]
  },
  {
   "cell_type": "code",
   "execution_count": 16,
   "metadata": {},
   "outputs": [
    {
     "data": {
      "text/plain": [
       "22-element Array{Float64,1}:\n",
       " 0.0\n",
       " 0.05\n",
       " 0.1\n",
       " 0.15\n",
       " 0.2\n",
       " 0.25\n",
       " 0.3\n",
       " 0.35\n",
       " 0.4\n",
       " 0.45\n",
       " 0.5\n",
       " 0.5\n",
       " 0.44999999999999996\n",
       " 0.4\n",
       " 0.35\n",
       " 0.30000000000000004\n",
       " 0.25\n",
       " 0.19999999999999996\n",
       " 0.15000000000000002\n",
       " 0.09999999999999998\n",
       " 0.050000000000000044\n",
       " 0.0"
      ]
     },
     "execution_count": 16,
     "metadata": {},
     "output_type": "execute_result"
    }
   ],
   "source": [
    "N = 20\n",
    "f1(x)=x/N\n",
    "f2(x) = (1.0 - x/N)\n",
    "u = cat(dims=1, f1.(0:(N/2)), f2.((N/2):N))\n",
    "v = u\n",
    "v"
   ]
  }
 ],
 "metadata": {
  "kernelspec": {
   "display_name": "Julia 1.5.0",
   "language": "julia",
   "name": "julia-1.5"
  },
  "language_info": {
   "file_extension": ".jl",
   "mimetype": "application/julia",
   "name": "julia",
   "version": "1.5.0"
  }
 },
 "nbformat": 4,
 "nbformat_minor": 4
}
