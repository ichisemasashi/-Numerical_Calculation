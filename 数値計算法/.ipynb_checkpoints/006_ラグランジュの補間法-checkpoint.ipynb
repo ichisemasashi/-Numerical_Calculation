{
 "cells": [
  {
   "cell_type": "markdown",
   "metadata": {},
   "source": [
    "## ラグランジュの補間法\n",
    "\n",
    "離散的なデータが得られている場合、これらの点のすべてを通過する多項式を求めて、この式を用いてデータ間の値を近似しようという考えを関数補間という。ラグランジュの補間法は、その多項式を簡単に計算できる方法である。"
   ]
  },
  {
   "cell_type": "markdown",
   "metadata": {},
   "source": [
    "### ラグランジュの補間法について\n",
    "\n",
    "1次式は2点がわかると、その係数を計算することができる。同様に$n$次多項式の係数は$(n + 1)$個の点によって係数が決定される。\n",
    "\n",
    "例：3点の座標$(x_0, y_0)$、$(x_1, y_1)$、$(x_2, y_2)$がわかっているとき、この点を通る2次式$y = \\alpha x^2 \\beta x + \\gamma$を考える。\n",
    "\n",
    "各点は、それぞれこの2次式を満足するはずだから、それらの値を2次方程式に代入した式が成り立つ。\n",
    "\n",
    "$$\n",
    "\\left.\n",
    "\\begin{array}{}\n",
    "y_0 & = & {x_0}^2 \\alpha & + x_0 \\beta & + \\gamma\\\\\n",
    "y_1 & = & {x_1}^2 \\alpha & + x_1 \\beta & + \\gamma\\\\\n",
    "y_2 & = & {x_2}^2 \\alpha & + x_2 \\beta & + \\gamma\n",
    "\\end{array}\\right\\}\n",
    "$$\n",
    "\n",
    "この連立方程式を、多元連立1次方程式の数値解法を用いて解けば、$\\alpha$、$\\beta$、$\\gamma$を求めることができる。"
   ]
  },
  {
   "cell_type": "markdown",
   "metadata": {},
   "source": [
    "しかし、点の数が$n$個に増えれば、これらをすべて通る曲線は$(n - 1)$次の$x$の多項式になり、その係数を連立方程式を用いて求めるのは、計算に時間がかかり合理的でない。よって、直接的に係数群を計算する方法が用意されている。"
   ]
  },
  {
   "cell_type": "markdown",
   "metadata": {},
   "source": [
    "いま、求める2次方程式として以下を考える。\n",
    "\n",
    "$$y = \\alpha z_0 + \\beta z_1 + \\gamma z_2\\tag{1}$$\n",
    "\n",
    "ただし、\n",
    "\n",
    "$$\n",
    "\\left.\n",
    "\\begin{array}{}\n",
    "z_0 & = & \\frac{\\hspace{10mm}(x - x_1)(x - x_2)}{\\hspace{10mm}(x_0 - x_1)(x_0 - x_2)}\\\\\n",
    "z_1 & = & \\frac{(x - x_0)\\hspace{10mm}(x - x_2)}{(x_1 - x_0)\\hspace{10mm}(x_1 - x_2)}\\\\\n",
    "z_2 & = & \\frac{(x - x_0)(x - x_1)\\hspace{10mm}}{(x_2 - x_0)(x_2 - x_1)\\hspace{10mm}}\n",
    "\\end{array}\n",
    "\\right\\}\\tag{2}\n",
    "$$\n",
    "\n",
    "この式で計算される$z_0$、$z_1$、$z_2$は、それぞれ$x$の2次方程式になっているので、これらを加算した式$y$も2次方程式になる。\n",
    "\n",
    "式$(2)$は3点$(x_0, y_0)$、$(x_1, y_1)$、$(x_2, y_2)$を通るから、これらの座標を代入する。\n",
    "\n",
    "$$z_0 = \\frac{(x_0 - x_1)(x_0 - x_2)}{(x_0 - x_1)(x_0 - x_2)} = 1$$\n",
    "\n",
    "$$z_1 = \\frac{(x_0 - x_0)(x_0 - x_2)}{(x_1 - x_0)(x_1 - x_2)} = 0$$\n",
    "\n",
    "$$z_2 = \\frac{(x_0 - x_0)(x_0 - x_1)}{(x_2 - x_0)(x_2 - x_1)} = 0$$\n",
    "\n",
    "すると、式$(1)$は、\n",
    "\n",
    "$$y_0 = \\alpha$$\n",
    "\n",
    "となり、係数$\\alpha$がただちに求められる。\n",
    "\n",
    "同様に、ほかの2点$(x_1, y_1)$、$(x_2, y_2)$から、$y_1 = \\beta$、$y_2 = \\gamma$が得られる。\n",
    "\n",
    "よって、求める2次方程式は次のようになる。\n",
    "\n",
    "$$y = y_0 z_0 + y_1 z_1 + y_2 z_2$$\n"
   ]
  },
  {
   "cell_type": "markdown",
   "metadata": {},
   "source": [
    "一般に、$(n+1)$個の点$(x_0, y_0)、(x_1, y_1)、(x_2, y_2)、\\cdots、(x_n, y_n)$がわかっているとき、これらの点すべてを通過する曲線の$x$の多項式は、ラグランジュの方法により次のように表わされる。\n",
    "\n",
    "$$y = y_0 z_0 + y_1 Z_1 + y_2 z_2 + \\cdots + y_n z_n\\tag{3}$$\n",
    "\n",
    "ただし、\n",
    "\n",
    "$$\n",
    "\\left.\n",
    "\\begin{array}{}\n",
    "z_0 & = & \\frac{\\hspace{10mm}(x - x_1)(x - x_2)\\cdots(x - x_n)}{\\hspace{10mm}(x_0 - x_1)(x_0 - x_2)\\cdots(x_0 - x_n)}\\\\\n",
    "z_1 & = & \\frac{(x - x_0)\\hspace{10mm}(x - x_2)\\cdots(x - x_n)}{(x_1 - x_0)\\hspace{10mm}(x_1 - x_2)\\cdots(x_1 - x_n)}\\\\\n",
    "z_2 & = & \\frac{(x - x_0)(x - x_1)\\hspace{10mm}\\cdots(x - x_n)}{(x_2 - x_0)(x_2 - x_1)\\hspace{10mm}\\cdots(x_2 - x_n)}\\\\\n",
    "    &   &   \\vdots\\\\\n",
    "z_n & = & \\frac{(x - x_0)(x - x_1)\\cdots\\hspace{10mm}}{(x_2 - x_0)(x_2 - x_1)\\cdots\\hspace{10mm}}\\\\\n",
    "\\end{array}\n",
    "\\right\\}\\tag{4}\n",
    "$$\n",
    "\n",
    "式$(4)$をまとめて表記すると、次のようになる。\n",
    "\n",
    "$$y = \\sum_{k=0}^{n} y_kz_k\\tag{5}$$\n",
    "\n",
    "ここで、$z_k$は総乗記号$\\Pi$を用いて、次のようになる。\n",
    "\n",
    "$$z_k = \\prod _{i=0\\\\i \\neq k}^{n} \\frac{x - x_i}{x_k - x_i}\\tag{6}$$\n",
    "\n",
    "よって、これらの手順をプログラムして、式$(5)$、$(6)$に与えられた点$(x_k, y_k)$を代入すれば、それ以外の点$x$に対応する$y$の値がただちに求められる。"
   ]
  },
  {
   "cell_type": "markdown",
   "metadata": {},
   "source": [
    "※ ただし、この関数補間は、与えられたデータが正確で確実性のある場合に有効なものであり、1つでもデータを間違えると曲線の形が大きく異なってしまう場合が生じる。したがって、誤差を含むデータ(たとえば実験値の集合)からそれらの間の値を推論しようとする場合には、この補間法は適さない。このような場合には、次節の最小2乗法で近似曲線を求める。"
   ]
  },
  {
   "cell_type": "markdown",
   "metadata": {},
   "source": [
    "### ラグランジュの補間法のプログラム\n",
    "\n",
    "例：点$(0, 0)$、$(1.0, 1.1)$、$(2.0, 2.5)$、$(3.0, 4.0)$、$(3.1, 4.1)$、$(5, 5)$に対する補間曲線を求める。\n",
    "\n",
    "![006_ラグランジュの補間法フローチャート](006_ラグランジュの補間法フローチャート.jpg)"
   ]
  },
  {
   "cell_type": "code",
   "execution_count": 42,
   "metadata": {},
   "outputs": [
    {
     "name": "stdout",
     "output_type": "stream",
     "text": [
      "XX\tYY\n",
      "0.0\t0.0\n",
      "0.2\t0.31\n",
      "0.4\t0.53\n",
      "0.6\t0.72\n",
      "0.8\t0.91\n",
      "1.0\t1.1\n",
      "1.2\t1.32\n",
      "1.4\t1.57\n",
      "1.6\t1.86\n",
      "1.8\t2.17\n",
      "2.0\t2.5\n",
      "2.2\t2.84\n",
      "2.4\t3.17\n",
      "2.6\t3.48\n",
      "2.8\t3.76\n",
      "3.0\t4.0\n",
      "3.2\t4.19\n",
      "3.4\t4.32\n",
      "3.6\t4.39\n",
      "3.8\t4.42\n",
      "4.0\t4.41\n",
      "4.2\t4.4\n",
      "4.4\t4.4\n",
      "4.6\t4.46\n",
      "4.8\t4.64\n",
      "5.0\t5.0\n"
     ]
    },
    {
     "data": {
      "text/plain": [
       "0"
      ]
     },
     "execution_count": 42,
     "metadata": {},
     "output_type": "execute_result"
    }
   ],
   "source": [
    "struct Point\n",
    "    x::Float64\n",
    "    y::Float64\n",
    "end\n",
    "a = [Point(0.0, 0.0)\n",
    "     Point(1.0, 1.1)\n",
    "     Point(2.0, 2.5)\n",
    "     Point(3.0, 4.0)\n",
    "     Point(3.1, 4.1)\n",
    "     Point(5.0, 5.0)]\n",
    "N = length(a)\n",
    "\n",
    "function main()\n",
    "    println(\"XX\\tYY\")\n",
    "    for xx = range(0.0, 5.0, step=0.2)\n",
    "        yy = lagrange(xx)\n",
    "        println(\"$xx\\t$(f(yy))\")\n",
    "    end\n",
    "    return 0\n",
    "end\n",
    "\n",
    "function f(x::Float64)\n",
    "    return round(x,digits=2)\n",
    "end\n",
    "\n",
    "function myrange(start, stop, skip)\n",
    "    [n for n = start:stop if n != skip]\n",
    "end\n",
    "\n",
    "function lagrange(xx::Float64)\n",
    "    yy = 0.0::Float64\n",
    "    \n",
    "    for k = 1:N\n",
    "        xk = a[k].x\n",
    "        zk = reduce(*, [(xx - a[i].x)/(xk - a[i].x) for i = myrange(1,N,k)]; init=1.0)\n",
    "        yy += a[k].y * zk\n",
    "    end\n",
    "    return yy\n",
    "end\n",
    "\n",
    "main()"
   ]
  }
 ],
 "metadata": {
  "kernelspec": {
   "display_name": "Julia 1.5.0",
   "language": "julia",
   "name": "julia-1.5"
  },
  "language_info": {
   "file_extension": ".jl",
   "mimetype": "application/julia",
   "name": "julia",
   "version": "1.5.0"
  }
 },
 "nbformat": 4,
 "nbformat_minor": 4
}
