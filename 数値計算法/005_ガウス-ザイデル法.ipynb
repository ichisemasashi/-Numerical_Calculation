{
 "cells": [
  {
   "cell_type": "markdown",
   "metadata": {},
   "source": [
    "## ガウス-ザイデル法\n",
    "\n",
    "まず、方程式のすべての根に対して初期値を適当に与え、各方程式から1変数ずつ近似解を計算して解を修正していく。\n"
   ]
  },
  {
   "cell_type": "markdown",
   "metadata": {},
   "source": [
    "### ガウス-ザイデル法について\n",
    "\n",
    "例：以下の3元連立1次方程式を解く。\n",
    "\n",
    "$$\n",
    "\\left.\n",
    "\\begin{array}{rrrlr}\n",
    "5x & +  y & +  z & = & 10\\\\\n",
    " x & + 4y & +  z & = & 12\\\\\n",
    "2x & +  y & + 3z & = & 13\n",
    "\\end{array}\n",
    "\\right\\}\\tag{1}\n",
    "$$\n",
    "\n",
    "これをガウス-ザイデル法を用いて解く。\n",
    "\n",
    "$(1)$から、未知数を計算する次の式に変形する。\n",
    "\n",
    "$$\n",
    "\\left.\n",
    "\\begin{array}{cccrrcc}\n",
    "x & = & (10 &  -y & -z) & / & 5\\\\\n",
    "y & = & (12 &  -x & -z) & / & 4\\\\\n",
    "z & = & (13 & -2x & -y) & / & 3\n",
    "\\end{array}\n",
    "\\right\\}\\tag{2}\n",
    "$$\n",
    "\n",
    "解の初期値として、$x$、$y$、$z$に適当な数として、$1$を与える。\n",
    "\n",
    "すると、式$(2)$から、\n",
    "$$\n",
    "\\begin{array}{ccr}\n",
    "x & = & 1.6\\\\\n",
    "y & = & 2.35\\\\\n",
    "z & = & 2.483\n",
    "\\end{array}\n",
    "$$\n",
    "\n",
    "となる。ここで求められた$x$、$y$、$z$の値を使って、新らしい$x$、$y$、$z$を求めるという操作を繰り返していくと最後には近似解が得られる。\n",
    "\n",
    "ただし、一般的な連立方程式にこのような繰り返し操作によって、解は発散してしまう。\n",
    "\n",
    "この方法で解が収束するための条件(十分条件)は、係数行列$a_{ij}$の各行で、対角要素$a_{ii}$と非対角要素との間に以下の関係が成り立つ場合である。\n",
    "$$\n",
    "|a_{ii}| > \\left| \\sum_{i \\neq j} a_{ij} \\right|\n",
    "$$\n",
    "\n",
    "ガウス-ザイデル法は、ガウス-ジョルダン法に比べて、計算手順が簡単であり、演算時間が短くなることが多いので、利用価値が大きい。"
   ]
  },
  {
   "cell_type": "markdown",
   "metadata": {},
   "source": [
    "### ガウス-ザイデル法によるプログラム\n",
    "\n",
    "例：連立方程式$(1)$を解く。\n",
    "\n",
    "第$i$式(第$i$項が求めたいもの)の近似解は、第$i$項以外のすべての項を合計して係数項から差し引く。そして、第$i$項の係数で割る。\n",
    "\n",
    "$x_i = (b_i - a_{i1}x_1 - a_{i2}x_2 - \\cdots - a_{in}x_n) / a_{ii}$\n",
    "\n",
    "q(解の初期値と近似解との差分の総和), s(近似解を求める途中で使用。), Y(計算の結果である近似解)\n",
    "\n",
    "※ 最大繰り返し回数について。プログラムでは30回になっているが、この回数で収束しないときはこの値を大きくすると収束することがある。\n",
    "\n",
    "![005_ガウス-ザイデル法フローチャート](005_ガウス-ザイデル法フローチャート.jpg)"
   ]
  },
  {
   "cell_type": "code",
   "execution_count": 2,
   "metadata": {},
   "outputs": [
    {
     "name": "stdout",
     "output_type": "stream",
     "text": [
      "x1 = 1.000005\n",
      "x2 = 2.0\n",
      "x3 = 2.999997\n"
     ]
    },
    {
     "data": {
      "text/plain": [
       "0"
      ]
     },
     "execution_count": 2,
     "metadata": {},
     "output_type": "execute_result"
    }
   ],
   "source": [
    "const EPS = 0.0001\n",
    "MaxLoop = 30\n",
    "\n",
    "function main()\n",
    "    a = [5.0 1 1 10;\n",
    "           1 4 1 12;\n",
    "           2 1 3 13]\n",
    "    (N,M) = size(a)\n",
    "    x = ones(Float64, M-1)\n",
    "\n",
    "    for k = 1:MaxLoop\n",
    "        q = 0.0\n",
    "        for i = 1:N\n",
    "            b = a[i,M]\n",
    "            s = sum(a[i,1:M-1] .* x) - a[i,i]*x[i]\n",
    "            y = (b - s) / a[i,i]\n",
    "            q += abs(x[i] - y)\n",
    "            x[i] = y\n",
    "        end\n",
    "\n",
    "        if q < EPS\n",
    "            for i = 1:N\n",
    "                println(\"x$i = $(f(x[i]))\")\n",
    "            end\n",
    "            return 0\n",
    "        end\n",
    "    end\n",
    "    \n",
    "    println(\"収束せず\")\n",
    "    return 1\n",
    "end\n",
    "\n",
    "function f(x::Float64)\n",
    "    return round(x,digits=6)\n",
    "end\n",
    "\n",
    "main()"
   ]
  },
  {
   "cell_type": "code",
   "execution_count": 52,
   "metadata": {},
   "outputs": [
    {
     "data": {
      "text/plain": [
       "4"
      ]
     },
     "execution_count": 52,
     "metadata": {},
     "output_type": "execute_result"
    }
   ],
   "source": [
    "    a = [5.0 1 1 10;\n",
    "         1 4 1 12;\n",
    "         2 1 3 13]\n",
    "    M = length(a[1,:])\n",
    "    N = length(a[:,1])\n",
    "    x = ones(Float64, M-1)\n",
    "    y = ones(Float64, M-1)\n",
    "a[3,1:M-1] .* x\n",
    "(N,M) = size(a)\n",
    "M"
   ]
  }
 ],
 "metadata": {
  "kernelspec": {
   "display_name": "Julia 1.5.2",
   "language": "julia",
   "name": "julia-1.5"
  },
  "language_info": {
   "file_extension": ".jl",
   "mimetype": "application/julia",
   "name": "julia",
   "version": "1.5.2"
  }
 },
 "nbformat": 4,
 "nbformat_minor": 4
}
