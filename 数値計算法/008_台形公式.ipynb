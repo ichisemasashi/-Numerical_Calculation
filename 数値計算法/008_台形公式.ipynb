{
 "cells": [
  {
   "cell_type": "markdown",
   "metadata": {},
   "source": [
    "## 台形公式\n",
    "\n",
    "数値積分の最も簡単な方法。\n",
    "\n",
    "積分しようとする関数の形を幅の狭い台形の集合と考えて、これらを個別に数値計算した後に合算するもの。"
   ]
  },
  {
   "cell_type": "markdown",
   "metadata": {},
   "source": [
    "### 台形公式について\n",
    "\n",
    "![008_台形公式について](008_台形公式について.jpg)\n",
    "\n",
    "連続関数 $y = f(x)$の微小区間$h$の両端の$x$座標を$x_1$、$x_2$とし、それらの$y$座標を$y_1$、$y_2$とする。\n",
    "\n",
    "$h$は微小区間だから関数値には大きな変化はないと考えられ、関数を1次関数で近似すれば、この区間の積分はきわめて簡単になる。\n",
    "\n",
    "近似に用いる1次関数は\n",
    "\n",
    "$$ y = \\alpha x + \\beta\\tag(1)$$\n",
    "\n",
    "この関数は2点$(x_1, y_1)$、$(x_2, y_2)$を通過するから\n",
    "\n",
    "$$\n",
    "\\left.\n",
    "\\begin{array}{}\n",
    "y_1 & = & \\alpha x_1 + \\beta\\\\\n",
    "y_2 & = & \\alpha x_2 + \\beta\n",
    "\\end{array}\n",
    "\\right\\}\\tag{2}\n",
    "$$\n",
    "\n",
    "微小区間は、$h = x_2 - x_1$であることから、係数$\\alpha$、$\\beta$は\n",
    "\n",
    "$$\n",
    "\\begin{array}{}\n",
    "\\alpha & = & \\cfrac{y_2 - y_1}{h}\\\\\n",
    "\\beta  & = & \\cfrac{y_1 x_2 - y_2 x_1}{h}\n",
    "\\end{array}\n",
    "$$\n",
    "\n",
    "よって、この近似直線$y = \\alpha x + \\beta$を$x_1$から$x_2$まで積分すると\n",
    "\n",
    "$$\n",
    "\\begin{array}{}\n",
    "\\int _{x_1}^{x_2} (\\alpha x + \\beta)dx & = & \\cfrac{\\alpha}{2}({x_2}^2 - {x_1}^2) + \\beta(x_2 - x_1)\\\\\n",
    " & = & \\cfrac{1}{2} \\cfrac{y_2 - y_1}{h} ({x_2} - {x_1})({x_2} + {x_1}) + \\cfrac{y_1 x_2 - y_2 x_1}{h} h\\\\\n",
    " & = & \\cfrac{1}{2} \\cfrac{y_2 - y_1}{h} h ({x_2} + {x_1}) + y_1 x_2 - y_2 x_1\\\\\n",
    " & = & \\cfrac{1}{2} (y_2 - y_1)({x_2} + {x_1}) + y_1 x_2 - y_2 x_1\\\\\n",
    " & = & \\cfrac{1}{2}\\{ (x_2 y_2 + x_1 y_2 -x_2 y_1 -x_1 y_1) + 2(y_1 x_2 - y_2 x_1)\\}\\\\\n",
    " & = & \\cfrac{1}{2}\\{ x_2 y_2 - x_1 y_2 +x_2 y_1 -x_1 y_1\\}\\\\\n",
    " & = & \\cfrac{1}{2}\\{ y_2(x_2 - x_1) + y_1(x_2 - x_1)\\}\\\\\n",
    " & = & \\cfrac{1}{2} (x_2 - x_1)(y_2 + y_1)\\\\\n",
    " & = & \\cfrac{h}{2}(y_2 + y_1)\n",
    "\\end{array}\n",
    "$$\n",
    "\n",
    "この計算結果は、図の台形部分の面積と一致しており、関数曲線と近似直線とのすきまの分だけ、誤差が生じることがわかる。\n",
    "\n",
    "さて、$x$の区間$a$から$b$までが微小距離$h$で$n$等分に区切られていて、それぞれの$x$の値における関数$f(x)$の値が$y_0$、$y_1$、$ldots$、$y_n$であるとき、$a$から$b$までの定積分を行うには、上の式を次々に連続して加えていけばよいから\n",
    "\n",
    "$$\\begin{array}{}\n",
    "\\int _\\alpha ^{\\beta} f(x) dx & = & \\cfrac{h}{2}(y_0 + y_1) + \\cfrac{h}{2}(y_1 + y_2) + \\cdots + \\cfrac{h}{2}(y_{n-1} + y_n)\\\\\n",
    "  & = & \\cfrac{h}{2}(y_0 + 2 y_1 + 2 y_2 + \\cdots + 2 y_{n-1} + y_n)\n",
    "\\end{array}$$\n",
    "\n",
    "である。この公式を用いて精度よく積分を行うには、微小区間$h$をできるだけ小さい値にすればよい。\n",
    "\n",
    "しかし$h$を小さくすると計算項数が増え、各項に含まれる丸め誤差が集積にかえって精度が悪くなる。"
   ]
  },
  {
   "cell_type": "markdown",
   "metadata": {},
   "source": [
    "### 台形公式による数値積分プログラム\n",
    "\n",
    "例：関数$y=x^4 + 2x$、積分区間$0.0$から$3.0$の数値積分\n",
    "\n",
    "![008_台形公式フローチャート](008_台形公式フローチャート.jpg)\n",
    "\n"
   ]
  },
  {
   "cell_type": "code",
   "execution_count": 7,
   "metadata": {},
   "outputs": [
    {
     "name": "stdout",
     "output_type": "stream",
     "text": [
      "ANS =  57.6900\n"
     ]
    },
    {
     "data": {
      "text/plain": [
       "0"
      ]
     },
     "execution_count": 7,
     "metadata": {},
     "output_type": "execute_result"
    }
   ],
   "source": [
    "using Printf\n",
    "function main(a, b, f)\n",
    "    N = 30     # 積分刻み数\n",
    "    h = (b - a)/N  # 微小区間\n",
    "\n",
    "    x = range(a,b, length=N+1)\n",
    "    y = f.(x)\n",
    "    z = 2.0 * sum(y[2:N])\n",
    "    S = (h / 2.0) * (y[1] + y[N+1] + z)\n",
    "    \n",
    "    @printf(\"ANS = %8.4lf\\n\", S)\n",
    "    \n",
    "    return 0\n",
    "end\n",
    "\n",
    "function fun(x)\n",
    "    return x^4.0 + 2.0*x\n",
    "end\n",
    "\n",
    "main(0.0, 3.0, fun)"
   ]
  }
 ],
 "metadata": {
  "kernelspec": {
   "display_name": "Julia 1.5.0",
   "language": "julia",
   "name": "julia-1.5"
  },
  "language_info": {
   "file_extension": ".jl",
   "mimetype": "application/julia",
   "name": "julia",
   "version": "1.5.0"
  }
 },
 "nbformat": 4,
 "nbformat_minor": 4
}
