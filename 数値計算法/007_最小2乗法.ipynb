{
 "cells": [
  {
   "cell_type": "markdown",
   "metadata": {},
   "source": [
    "## 最小2乗法\n",
    "\n",
    "実験値のような誤差を含むデータ集合から最も確からしい関係を推論する方法"
   ]
  },
  {
   "cell_type": "markdown",
   "metadata": {},
   "source": [
    "#### 最小2乗法について\n",
    "\n",
    "データ群から最も近く、しかもなめらかな曲線(回帰曲線)を多項式で表すことを考える。\n",
    "\n",
    "![007_graph01](007_graph01.png)"
   ]
  },
  {
   "cell_type": "code",
   "execution_count": 13,
   "metadata": {},
   "outputs": [],
   "source": [
    "using Plots\n",
    "\n",
    "gr()\n",
    "x = [0.0 1.0 2.0 3.0 3.1 5.0]\n",
    "y = [0.0 1.1 2.5 4.0 4.1 5.0]\n",
    "plot(x, y, seriestype = :scatter)\n",
    "# savefig(\"007_graph01.png\")"
   ]
  },
  {
   "cell_type": "markdown",
   "metadata": {},
   "source": [
    "例：データ群として、$(2, 2)$、$(3, 4)$、$(5, 6)$を近似する最も確からしい直線を求める。\n",
    "\n",
    "まず、求める直線を\n",
    "\n",
    "$$y = a_0 + a_1 x\\tag{1}$$\n",
    "\n",
    "とする。\n",
    "\n",
    "この直線と3点との$y$座標の差はそれぞれ、\n",
    "\n",
    "$$\n",
    "\\begin{array}{}\n",
    "\\Delta y_1 & = & 2 - (a_0 + 2 a_1)\\\\\n",
    "\\Delta y_2 & = & 4 - (a_0 + 3 a_1)\\\\\n",
    "\\Delta y_3 & = & 6 - (a_0 + 5 a_1)\n",
    "\\end{array}\n",
    "$$\n",
    "\n",
    "これらが最小となる係数$a_0$と$a_1$を求めればよい。\n",
    "\n",
    "しかし、これらの値には正負の符号が付くので、その2乗和$S$が最小となるように考える。\n",
    "\n",
    "$$\n",
    "\\begin{array}{}\n",
    "S & = & (\\Delta y_1)^2 + (\\Delta y_2)^2 + (\\Delta y_3)^2\\\\\n",
    "  & = & (a_0 + 2a_1 -2)^2 + (a_0 + 3a_1 -4)^2 + (a_0 + 5a_1 -6)^2\n",
    "\\end{array}\n",
    "$$\n",
    "\n",
    "この2乗和を最小にするためには、$S$を$a_0$と$a_1$で偏微分したものが$0$であればよいから\n",
    "\n",
    "$$\n",
    "\\begin{array}{}\n",
    "\\frac{\\partial S}{\\partial a_0} & = & (a_0 + 2a_1 -2) + (a_0 + 3a_1 -4) + (a_0 + 5a_1 -6) & = & 0\\\\\n",
    "\\frac{\\partial S}{\\partial a_1} & = & 2(a_0 + 2a_1 -2) + 3(a_0 + 3a_1 -4) + 5(a_0 + 5a_1 -6) & = & 0\n",
    "\\end{array}\n",
    "$$\n",
    "\n",
    "この2式を整理すると、\n",
    "\n",
    "$$\n",
    "\\left \\{\n",
    "\\begin{array}{}\n",
    "(1 + 1 + 1)a_0 + (2 + 3 + 5)a_1 -(2 + 4 + 6) & = & 0\\\\\n",
    "(2 + 3 + 5)a_0 + (2^2 + 3^2 + 5^2)a_1 -(2 \\cdot 2 + 3 \\cdot 4 + 5 \\cdot 6) & = & 0\n",
    "\\end{array}\n",
    "\\right.\n",
    "$$\n",
    "\n",
    "$$\n",
    "\\left \\{\n",
    "\\begin{array}{}\n",
    "3a_0 + 10a_1 -12 & = & 0\\\\\n",
    "10a_0 + 38a_1 -46 & = & 0\n",
    "\\end{array}\n",
    "\\right.\n",
    "$$\n",
    "\n",
    "$$\n",
    "\\left \\{\n",
    "\\begin{array}{}\n",
    "a_0  & = & - \\frac{2}{7}\\\\\n",
    "a_1  & = & \\frac{9}{7}\n",
    "\\end{array}\n",
    "\\right.\n",
    "$$\n",
    "\n",
    "以上から、求める直線の方程式は\n",
    "\n",
    "$$y = -\\frac{2}{7} + \\frac{9}{7}x$$"
   ]
  },
  {
   "cell_type": "markdown",
   "metadata": {},
   "source": [
    "考えを一般化して、近似曲線を多項式で表すことを考える。\n",
    "\n",
    "データ集合$(x_k, y_k)$、$k = 0, 1, \\ldots ,n$において$x$を独立変数、$y$を$x$の従属変数とする。そして、$x_k$における多項式の値とデータ$y_k$との差を$\\Delta y_k$とする。\n",
    "\n",
    "この$\\Delta y_k$は、$k=0,1,\\ldots,n$の$(n+1)$個ある。これらの2乗の総和が最小になるように多項式の係数$a_0, a_1, \\ldots, a_n$を決定すればよい。\n",
    "\n",
    "$(n+1)$個のデータ集合を$(x_0, y_0)$、$(x_1, y_1)$、$\\ldots$、$(x_n, y_n)$、とし、これらの点から得られる最も確からしい曲線(回帰曲線)の方程式を以下の多項式で表わす。\n",
    "\n",
    "$$y=a_0 + a_1x^1 + a_2x^2 + \\cdots + a_mx^m$$\n",
    "\n",
    "$$\n",
    "\\begin{array}{}\n",
    "\\Delta y_k & = &(データ群中のy_kの値) - (x_kにおける多項式の値)\\\\\n",
    "           & = & y_k - (a_0 + a_1{x_k}^1 + a_2{x_k}^2 + \\cdots + a_m{x_k}^m)\n",
    "\\end{array}\n",
    "$$\n",
    "\n",
    "よって、$k$について$\\Delta y_k$の2乗の総和$S$は\n",
    "\n",
    "$$S = \\sum (\\Delta y_k)^2 = \\sum_{k=0}^{n}\\{ y_k - (a_0 + a_1{x_k}^1 + a_2{x_k}^2 + \\cdots + a_m{x_k}^m) \\}^2$$\n",
    "\n",
    "$S$を多項式の係数$a_i、(i= 0, 1 ,\\ldots,m)$でおのおの偏微分して$0$とすればよい。\n",
    "\n",
    "$$\n",
    "\\left.\n",
    "\\begin{array}{}\n",
    "a_0(n+1)         & + a_1 \\sum x_k         & + a_2 \\sum {x_k}^2     & + \\cdots + a_m \\sum {x_k}^m     & = \\sum y_k\\\\\n",
    "a_0 \\sum x_k     & + a_1 \\sum {x_k}^2     & + a_2 \\sum {x_k}^3     & + \\cdots + a_m \\sum {x_k}^{m+1} & = \\sum x_k y_k\\\\\n",
    "                 &                        & \\vdots                 &                                 &   \\\\\n",
    "a_0 \\sum {x_k}^m & + a_1 \\sum {x_k}^{m+1} & + a_2 \\sum {x_k}^{m+2} & + \\cdots + a_m \\sum {x_k}^{2m}    &= \\sum {x_k}^m y_k\n",
    "\\end{array}\n",
    "\\right\\}\n",
    "$$\n",
    "\n",
    "これは$a_i$についての多元連立1次方程式になっているので、ガウス-ジョルダン法などで解けば、回帰曲線の係数$a_i$はただちに求まる。\n"
   ]
  },
  {
   "cell_type": "markdown",
   "metadata": {},
   "source": [
    "回帰曲線の次数$m$はデータ数より小さければよく、データ数より1だけ小さい場合の回帰曲線は補間曲線と一致する。\n",
    "\n",
    "しかし、データには誤差が含まれているのが一般的なので、その近似曲線として厳密に高次多項式で表わすことは意味がなく、特別な場合を除き、1次や2次程度の回帰を行なうのが一般的である。"
   ]
  },
  {
   "cell_type": "markdown",
   "metadata": {},
   "source": [
    "### 最小2乗法のプログラム\n",
    "\n",
    "例：データ群$(0.0, 0.0)$、$(1.0, 1.1)$、$(2.0, 2.5)$、$(3.0, 4.0)$、$(3.1, 4.1)$、$(5.0, 5.0)$から次数$M=4$の回帰曲線を求める。\n",
    "\n",
    "![007_最小2乗法フローチャート](007_最小2乗法フローチャート.jpg)"
   ]
  },
  {
   "cell_type": "code",
   "execution_count": 65,
   "metadata": {},
   "outputs": [
    {
     "name": "stdout",
     "output_type": "stream",
     "text": [
      "A 0 =   0.000\n",
      "A 1 =   0.928\n",
      "A 2 =   0.158\n",
      "A 3 =   0.022\n",
      "A 4 =  -0.010\n"
     ]
    },
    {
     "data": {
      "text/plain": [
       "0"
      ]
     },
     "execution_count": 65,
     "metadata": {},
     "output_type": "execute_result"
    }
   ],
   "source": [
    "using Printf\n",
    "\n",
    "const EPS = 0.0001  # 許容誤差\n",
    "M = 4  # 回帰曲線の次数\n",
    "\n",
    "struct Point\n",
    "    x::Float64\n",
    "    y::Float64\n",
    "end\n",
    "\n",
    "data = [Point(0.0, 0.0)\n",
    "        Point(1.0, 1.1)\n",
    "        Point(2.0, 2.5)\n",
    "        Point(3.0, 4.0)\n",
    "        Point(3.1, 4.1)\n",
    "        Point(5.0, 5.0)]\n",
    "N = length(data)\n",
    "m = M + 1\n",
    "n = M + 2\n",
    "a = zeros(Float64, m, n)  # 多項式の係数\n",
    "\n",
    "function main()\n",
    "    for i = 1:(n-1)\n",
    "        for j = 1:m\n",
    "            for k = 1:N\n",
    "                a[j,i] += (data[k].x)^(i+j-2)\n",
    "            end\n",
    "        end\n",
    "    end\n",
    "\n",
    "    for j = 1:m\n",
    "        for k = 1:N\n",
    "            a[j,n] += (data[k].y) * ((data[k].x)^(j-1))\n",
    "        end\n",
    "    end\n",
    "\n",
    "    if(jordan() == 1)\n",
    "        return 1\n",
    "    end\n",
    "\n",
    "    for i = 1:m\n",
    "        @printf(\"A%2d = %7.3lf\\n\", (i - 1), a[i,n])\n",
    "    end\n",
    "    return 0\n",
    "end\n",
    "\n",
    "function jordan()\n",
    "    for i = 1:m\n",
    "        pivot = a[i,i]   # ピボットの設定\n",
    "        if abs(pivot) < EPS\n",
    "            println(\"ピボットが許容誤差以下\")\n",
    "            return 1\n",
    "        end\n",
    "        a[i,:] = a[i,:] ./ pivot # 正規化\n",
    "        for k = myrange(1, m, i)\n",
    "            a[k,:] = a[k,:] - (a[i,:] .* a[k,i]) # 第k式から第i項を消去\n",
    "        end\n",
    "    end\n",
    "    return 0\n",
    "end\n",
    "\n",
    "function myrange(start, stop, skip)\n",
    "    [n for n = start:stop if n != skip]\n",
    "end\n",
    "\n",
    "main()"
   ]
  },
  {
   "cell_type": "code",
   "execution_count": 56,
   "metadata": {},
   "outputs": [
    {
     "data": {
      "text/plain": [
       "0.0"
      ]
     },
     "execution_count": 56,
     "metadata": {},
     "output_type": "execute_result"
    }
   ],
   "source": [
    "M=4\n",
    "N = 6\n",
    "s = zeros(Float64, M+1, M+2)\n",
    "s[2,M+2]"
   ]
  }
 ],
 "metadata": {
  "kernelspec": {
   "display_name": "Julia 1.5.0",
   "language": "julia",
   "name": "julia-1.5"
  },
  "language_info": {
   "file_extension": ".jl",
   "mimetype": "application/julia",
   "name": "julia",
   "version": "1.5.0"
  }
 },
 "nbformat": 4,
 "nbformat_minor": 4
}
