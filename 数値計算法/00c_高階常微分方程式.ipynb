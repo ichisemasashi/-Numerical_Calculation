{
 "cells": [
  {
   "cell_type": "markdown",
   "metadata": {},
   "source": [
    "## 高階常微分方程式\n",
    "\n",
    "高階の常微分方程式は、連立1階微分方程式に変換することによって解くことができる。"
   ]
  },
  {
   "cell_type": "markdown",
   "metadata": {},
   "source": [
    "### 高階常微分方程式について\n",
    "\n",
    "例：2階の微分方程式$\\cfrac{d^2y}{dx^2}=f(x,y,\\cfrac{dy}{dx})$、初期条件$x=0$のとき、$y=y_0$、$\\cfrac{dy}{dx}=z_0$\n",
    "\n",
    "$z=\\cfrac{dy}{dx}$という置換を行うと\n",
    "\n",
    "$$\\begin{array}{}\n",
    "\\cfrac{dy}{dx} & = & z\\\\\n",
    "\\cfrac{dz}{dx} & = & f(x, y, z)\n",
    "\\end{array}$$\n",
    "\n",
    "となり、2階の微分方程式が、1階の2元連立微分方程式に変換されたことになる。\n"
   ]
  },
  {
   "cell_type": "markdown",
   "metadata": {},
   "source": [
    "考えを一般化して次のような$n$階の常微分方程式を考える。\n",
    "\n",
    "$$\\cfrac{d^ny}{dx^n}=f\\left( x, y, \\cfrac{dy}{dx}, \\cdots, \\cfrac{d^{n-1}}{dx^{n-1}} \\right)$$\n",
    "\n",
    "ここで、$\\cfrac{d^{n-1}y}{dx^{n-1}}=y_{n-1}$、$\\ldots$、$\\cfrac{dy}{dx}=y_1$という置換を行う。\n",
    "\n",
    "$$\n",
    "\\begin{array}{}\n",
    "\\cfrac{d^ky}{dx^k} & = & y_k\\ \\ (k=1,2,3,\\ldots, n-1)\\\\\n",
    "\\cfrac{dy_{n-1}}{dx} & = & f(x, y, y_1, y_2, \\cdots, y_{n-2}, y_{n-1})\n",
    "\\end{array}\n",
    "$$\n",
    "\n",
    "これらの式は、1階微分方程式なので、これらを連立させて数値解析を行えば、$n$階の常微分方程式が解ける。"
   ]
  },
  {
   "cell_type": "markdown",
   "metadata": {},
   "source": [
    "## 連立常微分方程式\n",
    "\n",
    "連立常微分方程式は、ルンゲ-クッタの公式などを利用して数値計算で解くことができる。"
   ]
  },
  {
   "cell_type": "markdown",
   "metadata": {},
   "source": [
    "### 連立常微分方程式の解法\n",
    "\n",
    "ここで、$m$元連立1階の微分方程式を考える。\n",
    "\n",
    "$$\\cfrac{dy_i}{dx}=f_i(x, y_1, y_2,\\cdots, y_m)\\ \\ (i=1,2,\\ldots,m)$$\n",
    "\n",
    "この関数についてのルンゲ-クッタの公式は次のようになる。\n",
    "\n",
    "$y_{i,n+1} = y_{i,n}+ \\cfrac{h}{6}(b_{i,1} + 2b_{i,2} + 2b_{i,3} + b_{i,4})$\n",
    "\n",
    "$b_{i,j} = f_i(x_n + \\alpha _jh, y_1+ \\alpha _jhb_{1,j-1}, y_2 + \\alpha _j hb_{2,j-1}, \\ldots, y_m + \\alpha _j h b_{m, j-1})$\n",
    "\n",
    "$\\alpha _1 = 0,\\ \\alpha _2 = \\alpha _3 = \\cfrac{1}{2}, \\ \\alpha _4 = 1, \\ b_{i,0} = 0$\n",
    "\n",
    "$i = 1, 2, \\ldots , m、\\ j = 1, 2, 3, 4$\n",
    "\n",
    "簡単のため、この公式を次の式に当てはめてみる。\n",
    "\n",
    "$\\cfrac{dy}{dx} = f(x, y, z)$\n",
    "\n",
    "$\\cfrac{dz}{dx} = g(x, y, z)$\n",
    "\n",
    "すると、次の式が得られる。\n",
    "\n",
    "$$\n",
    "\\left.\n",
    "\\begin{array}{}\n",
    "y_{n+1} & = & y_n + \\cfrac{h}{6}(b_1 + 2b_2 + 2b_3 + b4)\\\\\n",
    "z_{n+1} & = & z_n + \\cfrac{h}{6}(c_1 + 2c_2 + 2c_3 + c_4)\\tag{1}\n",
    "\\end{array}\n",
    "\\right\\}\n",
    "$$\n",
    "\n",
    "$$\n",
    "\\left.\n",
    "\\begin{array}{}\n",
    "b_1 & = & f(x_n, y_n, z_n)\\\\\n",
    "c_1 & = & g(x_n, y_n, z_n)\\\\\n",
    "b_2 & = & f(x_n + \\cfrac{h}{2}, y_n + \\cfrac{b_1h}{2}, z_n + \\cfrac{c_1h}{2})\\\\\n",
    "c_2 & = & g(x_n + \\cfrac{h}{2}, y_n + \\cfrac{b_1h}{2}, z_n + \\cfrac{c_1h}{2})\\\\\n",
    "b_3 & = & f(x_n + \\cfrac{h}{2}, y_n + \\cfrac{b_2h}{2}, z_n + \\cfrac{c_2h}{2})\\\\\n",
    "c_3 & = & g(x_n + \\cfrac{h}{2}, y_n + \\cfrac{b_2h}{2}, z_n + \\cfrac{c_2h}{2})\\\\\n",
    "b_4 & = & f(x_n + h, y_n + b3h, z_n + c_3h)\\\\\n",
    "c_4 & = & g(x_n + h, y_n + b3h, z_n + c_3h)\\tag{2}\n",
    "\\end{array}\n",
    "\\right\\}\n",
    "$$\n",
    "\n"
   ]
  },
  {
   "cell_type": "markdown",
   "metadata": {},
   "source": [
    "### 連立常微分方程式の解法プログラム\n",
    "\n",
    "例：2階微分方程式$\\cfrac{d^2y}{dx^2}-3\\cfrac{dy}{dx}+2y=0$、ただし$x=0$のとき$y=3$、$\\cfrac{dy}{dx}=4$\n",
    "\n",
    "2階の微分方程式を2元連立1階の微分方程式に変形する\n",
    "\n",
    "$\\cfrac{dy}{dx} = z$\n",
    "\n",
    "$\\cfrac{dz}{dx} = 3z -2y$\n",
    "\n",
    "ただし、$x=0$のとき、$y=3、z-4$\n",
    "\n",
    "この2元連立1階の微分方程式をルンゲ-クッタの公式にあてはめる。\n",
    "\n",
    "$f(x, y, z) = z$、$g(x, y, z) = 3z -2y$を式$(1)$、$(2)$に代入すれば、解を求められる。\n",
    "\n",
    "※ 元の微分方程式において、微分演算子を$D \\equiv \\cfrac{d}{dx}$と表わすと、厳密解を求めることができる。\n",
    "\n",
    "$D^2y - 3Dy + 2y = (D^2 - 3D + 2)y = (D - 1)(D - 2)y = 0$\n",
    "\n",
    "初期条件を考慮して係数を決定すると、次のような式になる。\n",
    "\n",
    "$y = 2e^x + e^{2x}$\n",
    "\n",
    "この式を数値解法との誤差を比較するために使用する。\n",
    "\n",
    "![00c_高階常微分方程式フローチャート](00c_高階常微分方程式フローチャート.jpg)"
   ]
  },
  {
   "cell_type": "code",
   "execution_count": 4,
   "metadata": {},
   "outputs": [
    {
     "name": "stdout",
     "output_type": "stream",
     "text": [
      "    X          Y          R\n",
      "    0.0000     3.0000     3.0000\n",
      "    0.2000     3.9346     3.9346\n",
      "    0.4000     5.2092     5.2092\n",
      "    0.6000     6.9644     6.9644\n",
      "    0.8000     9.4041     9.4041\n",
      "    1.0000    12.8256    12.8256\n",
      "    1.2000    17.6634    17.6634\n",
      "    1.4000    24.5550    24.5550\n",
      "    1.6000    34.4386    34.4386\n",
      "    1.8000    48.6975    48.6975\n",
      "    2.0000    69.3763    69.3763\n"
     ]
    },
    {
     "data": {
      "text/plain": [
       "0"
      ]
     },
     "execution_count": 4,
     "metadata": {},
     "output_type": "execute_result"
    }
   ],
   "source": [
    "using Printf\n",
    "\n",
    "const EPS = 0.00000001\n",
    "\n",
    "function f(x, y, z)\n",
    "    return z\n",
    "end\n",
    "\n",
    "function g(x, y, z)\n",
    "    return 3.0 * z - 2.0 * y\n",
    "end\n",
    "\n",
    "function main()\n",
    "    x = 0.0\n",
    "    y = 3.0\n",
    "    z = 4.0\n",
    "    h = 0.001\n",
    "    dx = 0.2\n",
    "    x_max = 2.0\n",
    "    ddx = 0.0\n",
    "\n",
    "    @printf(\"    X          Y          R\\n\")\n",
    "    \n",
    "    while true\n",
    "        if x >= ddx - EPS\n",
    "            ddx += dx\n",
    "            r = 2.0 * exp(x) + exp(2.0*x)\n",
    "            @printf(\"%10.4lf %10.4lf %10.4lf\\n\", x, y, r)\n",
    "        end\n",
    "\n",
    "        b1 = f(x, y, z)\n",
    "        c1 = g(x, y, z)\n",
    "        b2 = f(x+ h/2.0, y+b1*h/2.0, z+c1*h/2.0)\n",
    "        c2 = g(x+ h/2.0, y+b1*h/2.0, z+c1*h/2.0)\n",
    "        b3 = f(x+ h/2.0, y+b2*h/2.0, z+c2*h/2.0)\n",
    "        c3 = g(x+ h/2.0, y+b2*h/2.0, z+c2*h/2.0)\n",
    "        b4 = f(x+h, y+b3*h, z+c3*h)\n",
    "        c4 = g(x+h, y+b3*h, z+c3*h)\n",
    "\n",
    "        y += (h/6.0)*(b1 + 2.0*b2 + 2.0*b3 + b4)\n",
    "        z += (h/6.0)*(c1 + 2.0*c2 + 2.0*c3 + c4)\n",
    "        x += h\n",
    "        if x>=x_max\n",
    "            break\n",
    "        end\n",
    "    end\n",
    "    return 0\n",
    "end\n",
    "\n",
    "main()"
   ]
  }
 ],
 "metadata": {
  "kernelspec": {
   "display_name": "Julia 1.5.0",
   "language": "julia",
   "name": "julia-1.5"
  },
  "language_info": {
   "file_extension": ".jl",
   "mimetype": "application/julia",
   "name": "julia",
   "version": "1.5.0"
  }
 },
 "nbformat": 4,
 "nbformat_minor": 4
}
